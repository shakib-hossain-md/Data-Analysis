{
 "cells": [
  {
   "cell_type": "code",
   "execution_count": 1,
   "id": "d84e367e-9729-46b9-a632-951c35f63eba",
   "metadata": {},
   "outputs": [
    {
     "name": "stdout",
     "output_type": "stream",
     "text": [
      "   calories  duration\n",
      "0       420        50\n",
      "1       380        40\n",
      "2       390        45\n"
     ]
    }
   ],
   "source": [
    "# Create a simple pandas DataFrame\n",
    "import pandas as pd\n",
    "data={\n",
    "    \"calories\":[420,380,390],\n",
    "    \"duration\":[50,40,45]\n",
    "}\n",
    "# Load data into a DataFrame object\n",
    "df=pd.DataFrame(data)\n",
    "print(df)"
   ]
  },
  {
   "cell_type": "code",
   "execution_count": 3,
   "id": "97b71fe6-50ea-456e-b23d-adc1bb127500",
   "metadata": {},
   "outputs": [
    {
     "name": "stdout",
     "output_type": "stream",
     "text": [
      "calories    420\n",
      "duration     50\n",
      "Name: 0, dtype: int64\n"
     ]
    }
   ],
   "source": [
    "# Locate Row\n",
    "\"\"\"As you can see from the result above,the DataFrame is like \n",
    "a table with rows and columns.\n",
    "Pandas use the loc attribute to return one or more specified row(s).\"\"\"\n",
    "# Ex: Return row 0.\n",
    "import pandas as pd\n",
    "data={\n",
    "    \"calories\":[420,380,390],\n",
    "    \"duration\":[50,40,45]\n",
    "}\n",
    "# Load data into a DataFrame object\n",
    "df=pd.DataFrame(data)\n",
    "# Refer to the row index\n",
    "print(df.loc[0])"
   ]
  },
  {
   "cell_type": "code",
   "execution_count": 9,
   "id": "fbe6d3d7-57f3-4ef4-9b9a-c4ac51fab834",
   "metadata": {},
   "outputs": [
    {
     "name": "stdout",
     "output_type": "stream",
     "text": [
      "   calories  duration\n",
      "0       420        50\n",
      "1       380        40\n"
     ]
    }
   ],
   "source": [
    "# Ex: Return row 0 and 1.\n",
    "import pandas as pd\n",
    "data={\n",
    "    \"calories\":[420,380,390],\n",
    "    \"duration\":[50,40,45]\n",
    "}\n",
    "# Load data into a DataFrame object\n",
    "df=pd.DataFrame(data)\n",
    "# Refer to the row index\n",
    "print(df.loc[[0,1]])\n",
    "\n",
    "# Note: When using [],the result is a pandas DataFrame."
   ]
  },
  {
   "cell_type": "code",
   "execution_count": 11,
   "id": "664329bd-f2e7-43f9-b587-b63cb089922e",
   "metadata": {},
   "outputs": [
    {
     "name": "stdout",
     "output_type": "stream",
     "text": [
      "      calories  duration\n",
      "day1       420        50\n",
      "day2       380        40\n",
      "day3       390        45\n"
     ]
    }
   ],
   "source": [
    "# Name Indexes\n",
    "# With the index argument,you can name your own indexes.\n",
    "# Ex: Add a list of names to give each row a name.\n",
    "import pandas as pd\n",
    "data={\n",
    "    \"calories\":[420,380,390],\n",
    "    \"duration\":[50,40,45]\n",
    "}\n",
    "df=pd.DataFrame(data,index=[\"day1\",\"day2\",\"day3\"])\n",
    "print(df)"
   ]
  },
  {
   "cell_type": "code",
   "execution_count": 13,
   "id": "e73fc9b8-e1a3-4c38-bf98-ea4a8014d030",
   "metadata": {},
   "outputs": [
    {
     "name": "stdout",
     "output_type": "stream",
     "text": [
      "calories    380\n",
      "duration     40\n",
      "Name: day2, dtype: int64\n"
     ]
    }
   ],
   "source": [
    "# Locate named indexes.\n",
    "# Use the named index in the loc attribute to return the specified rows.\n",
    "# Ex: Return \"day2\":\n",
    "data={\n",
    "    \"calories\":[420,380,390],\n",
    "    \"duration\":[50,40,45]\n",
    "}\n",
    "# Load data into a DataFrame object\n",
    "df=pd.DataFrame(data,index=[\"day1\",\"day2\",\"day3\"])\n",
    "print(df.loc[\"day2\"])"
   ]
  },
  {
   "cell_type": "code",
   "execution_count": 25,
   "id": "a82eaab3-2ed0-42e6-b18e-b9056800eaca",
   "metadata": {},
   "outputs": [
    {
     "name": "stdout",
     "output_type": "stream",
     "text": [
      "     Duration  Pulse  Maxpulse  Calories\n",
      "0          60    110       130     409.1\n",
      "1          60    117       145     479.0\n",
      "2          60    103       135     340.0\n",
      "3          45    109       175     282.4\n",
      "4          45    117       148     406.0\n",
      "..        ...    ...       ...       ...\n",
      "164        60    105       140     290.8\n",
      "165        60    110       145     300.4\n",
      "166        60    115       145     310.2\n",
      "167        75    120       150     320.4\n",
      "168        75    125       150     330.4\n",
      "\n",
      "[169 rows x 4 columns]\n"
     ]
    }
   ],
   "source": [
    "# Load Files into a DataFrame\n",
    "# If your data sets are stored in a file, pandas can load them into a DataFrame.\n",
    "import pandas as pd\n",
    "df = pd.read_csv('D:\\\\programming\\\\Data Analysis\\\\Pandas\\\\data.csv')\n",
    "print(df)"
   ]
  }
 ],
 "metadata": {
  "kernelspec": {
   "display_name": "Python 3 (ipykernel)",
   "language": "python",
   "name": "python3"
  },
  "language_info": {
   "codemirror_mode": {
    "name": "ipython",
    "version": 3
   },
   "file_extension": ".py",
   "mimetype": "text/x-python",
   "name": "python",
   "nbconvert_exporter": "python",
   "pygments_lexer": "ipython3",
   "version": "3.12.4"
  }
 },
 "nbformat": 4,
 "nbformat_minor": 5
}
