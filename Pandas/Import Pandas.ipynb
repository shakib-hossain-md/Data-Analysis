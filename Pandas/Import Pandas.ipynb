{
 "cells": [
  {
   "cell_type": "code",
   "execution_count": 1,
   "id": "2662e8a2-c4f0-462d-a64c-4c63be007e3e",
   "metadata": {},
   "outputs": [
    {
     "name": "stdout",
     "output_type": "stream",
     "text": [
      "    cars  passing\n",
      "0    BMW        3\n",
      "1  Volvo        7\n",
      "2   Ford        2\n"
     ]
    }
   ],
   "source": [
    "import pandas\n",
    "mydataset={\n",
    "    'cars':[\"BMW\",\"Volvo\",\"Ford\"],\n",
    "    'passing':[3,7,2]\n",
    "}\n",
    "myvar=pandas.DataFrame(mydataset)\n",
    "print(myvar)"
   ]
  },
  {
   "cell_type": "code",
   "execution_count": 3,
   "id": "6476f974-cdea-4ff2-bdba-681afe6e5fb4",
   "metadata": {},
   "outputs": [
    {
     "name": "stdout",
     "output_type": "stream",
     "text": [
      "    cars  passing\n",
      "0    BMW        3\n",
      "1  Volvo        7\n",
      "2   Ford        2\n"
     ]
    }
   ],
   "source": [
    "# Pandas as pd\n",
    "import pandas as pd\n",
    "mydataset={\n",
    "    'cars':[\"BMW\",\"Volvo\",\"Ford\"],\n",
    "    'passing':[3,7,2]\n",
    "}\n",
    "myvar=pandas.DataFrame(mydataset)\n",
    "print(myvar)"
   ]
  },
  {
   "cell_type": "code",
   "execution_count": 5,
   "id": "7d542e95-2141-401b-b95c-d337d1cfde12",
   "metadata": {},
   "outputs": [
    {
     "name": "stdout",
     "output_type": "stream",
     "text": [
      "2.2.2\n"
     ]
    }
   ],
   "source": [
    "# Checking pandas version\n",
    "import pandas as pd\n",
    "print(pd.__version__)"
   ]
  }
 ],
 "metadata": {
  "kernelspec": {
   "display_name": "Python 3 (ipykernel)",
   "language": "python",
   "name": "python3"
  },
  "language_info": {
   "codemirror_mode": {
    "name": "ipython",
    "version": 3
   },
   "file_extension": ".py",
   "mimetype": "text/x-python",
   "name": "python",
   "nbconvert_exporter": "python",
   "pygments_lexer": "ipython3",
   "version": "3.12.4"
  }
 },
 "nbformat": 4,
 "nbformat_minor": 5
}
