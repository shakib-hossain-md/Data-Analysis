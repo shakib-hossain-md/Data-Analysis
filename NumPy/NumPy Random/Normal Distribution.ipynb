{
 "cells": [
  {
   "cell_type": "code",
   "execution_count": 1,
   "id": "5700afd9-e499-49bb-82e7-bd1c8ac4f0ee",
   "metadata": {},
   "outputs": [
    {
     "name": "stdout",
     "output_type": "stream",
     "text": [
      "[[-1.07110883  0.81310942 -0.50716854]\n",
      " [ 0.58288218 -1.85590059  0.05787569]]\n"
     ]
    }
   ],
   "source": [
    "# Generate a random normal distribution of size 2x3\n",
    "\n",
    "from numpy import random\n",
    "x = random.normal(size=(2,3))\n",
    "print(x)\n"
   ]
  },
  {
   "cell_type": "code",
   "execution_count": 3,
   "id": "7b73b5c3-1468-44d6-bee5-458f30a9907f",
   "metadata": {},
   "outputs": [
    {
     "name": "stdout",
     "output_type": "stream",
     "text": [
      "[[ 3.39469797  1.09168675 -2.03801237]\n",
      " [ 1.29092318  2.33049132  2.26106762]]\n"
     ]
    }
   ],
   "source": [
    "# Generate a random normal distribution of size 2x3 with mean at 1 and starderd deviation of 2:\n",
    "\n",
    "from numpy import random\n",
    "x = random.normal(loc=1,scale=2,size=(2,3))\n",
    "print(x)"
   ]
  },
  {
   "cell_type": "code",
   "execution_count": null,
   "id": "3e8bb118-6e2a-4f85-a086-8e32912e12ae",
   "metadata": {},
   "outputs": [],
   "source": [
    "# Visualization of Normal Distribution\n",
    "\n",
    "from numpy import random\n",
    "import matplotlib.pyplot as plt\n",
    "import seaborn as sns\n",
    "\n",
    "sns.displot(random.normal(size=1000), hist=False)\n",
    "\n",
    "plt.show()"
   ]
  },
  {
   "cell_type": "code",
   "execution_count": null,
   "id": "6ed45a6f-7b29-431a-80e4-010578c5e470",
   "metadata": {},
   "outputs": [],
   "source": []
  }
 ],
 "metadata": {
  "kernelspec": {
   "display_name": "Python 3 (ipykernel)",
   "language": "python",
   "name": "python3"
  },
  "language_info": {
   "codemirror_mode": {
    "name": "ipython",
    "version": 3
   },
   "file_extension": ".py",
   "mimetype": "text/x-python",
   "name": "python",
   "nbconvert_exporter": "python",
   "pygments_lexer": "ipython3",
   "version": "3.12.4"
  }
 },
 "nbformat": 4,
 "nbformat_minor": 5
}
